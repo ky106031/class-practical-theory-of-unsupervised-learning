{
 "cells": [
  {
   "cell_type": "markdown",
   "id": "5ae73f3f",
   "metadata": {},
   "source": [
    "# 教師なし学習実践論（寺口担当分）\n",
    "\n",
    "注）この資料は、滋賀大学データサイエンス研究科の教師なし学習の教材です。第三者に公開することのないようお願いします。"
   ]
  },
  {
   "cell_type": "markdown",
   "id": "33a48c85",
   "metadata": {},
   "source": [
    "# Pythonについて\n",
    "\n",
    "ここでは、プロットにmatplotlibの上に構築された可視化ライブラリであるseaborn（aliasはsns）を使っています。日本語の表示のためにjapanize_matplotlibを読み込んでいます。sklearnはscikit-learn, umapはumap-learnというパッケージ名でpipやcondaでインストールしてください。\n",
    "\n",
    "df という変数に、全て数値データであるデータフレームが格納されているという前提です。 データをダウンロードして読み込んだだけでは、不必要な行や列が含まれていると思います。不要な部分は最初に除去してください。 データに欠損値がある場合、事前に適当な値で補完しておいてください。\n",
    "\n",
    "関数の引数はよく使うものだけ記載しています。詳細はヘルプを参照してください。"
   ]
  },
  {
   "cell_type": "code",
   "execution_count": null,
   "id": "d197ff07",
   "metadata": {},
   "outputs": [],
   "source": [
    "# !pip install japanize-matplotlib\n",
    "# !pip install umap-learn"
   ]
  },
  {
   "cell_type": "code",
   "execution_count": null,
   "id": "914d5109",
   "metadata": {},
   "outputs": [],
   "source": [
    "import pandas as pd\n",
    "import matplotlib.pyplot as plt\n",
    "import seaborn as sns\n",
    "import japanize_matplotlib\n",
    "import sklearn.decomposition\n",
    "import sklearn.preprocessing\n",
    "import sklearn.manifold\n",
    "import umap\n",
    "import numpy as np"
   ]
  },
  {
   "cell_type": "code",
   "execution_count": null,
   "id": "ce02dc56-92bb-4cad-80b0-7d280dbd601c",
   "metadata": {},
   "outputs": [],
   "source": [
    "# 高精細表示設定\n",
    "%config InlineBackend.figure_format = 'retina'\n",
    "# 表示をJupyter Notebookに適した設定に変更。ただし、ヒートマップのためにフォントサイズは小さめに設定。\n",
    "sns.set_context(\"notebook\", font_scale=0.7) "
   ]
  },
  {
   "cell_type": "code",
   "execution_count": null,
   "id": "d9c72516",
   "metadata": {},
   "outputs": [],
   "source": [
    "df = pd.read_csv(\"SSDSE-C-2023_formatted.csv\",index_col=0)"
   ]
  },
  {
   "cell_type": "markdown",
   "id": "b2aaad14",
   "metadata": {},
   "source": [
    "# ヒートマップ\n",
    "\n",
    "**`seaborn.clustermap`**`(data, method='average', metric='euclidean', z_score=None, standard_scale=None, row_cluster=True, col_cluster=True)`\n",
    "\n",
    "**注意点**\n",
    "\n",
    "-   デフォルトで行と列に対して、階層的クラスタリングが行われる\n",
    "\n",
    "    -   クラスタリングが不要なら、row_cluster, col_clusterにFalseを指定\n",
    "\n",
    "    -   method, metricをでクラスタリングのアルゴリズムと距離を変更できる。\n",
    "\n",
    "-   デフォルトでは正規化が行われない。\n",
    "\n",
    "    -   z-scoreで行あるいは列に対して正規化するなら、z_score=0あるいはz_score=1\n",
    "\n",
    "    -   min-max normalizationで行あるいは列に対して正規化するなら、standard_scale=0あるいはstandard_scale=1\n",
    "\n",
    "-   クラスタリングの機能のない、`seaborn.heatmap()`という関数もある。"
   ]
  },
  {
   "cell_type": "code",
   "execution_count": null,
   "id": "edc0425a",
   "metadata": {},
   "outputs": [],
   "source": [
    "## 生データをプロット\n",
    "# デフォルトで、行と列のそれぞれがクラスタリングされる。\n",
    "# 正規化は行われない\n",
    "sns.clustermap(df)"
   ]
  },
  {
   "cell_type": "code",
   "execution_count": null,
   "id": "8225d5f4",
   "metadata": {},
   "outputs": [],
   "source": [
    "# 行に対して正規化（z_scoreは正規化する方向を指定）\n",
    "# 列（特徴量）の違いが強調される\n",
    "sns.clustermap(df, z_score=0)"
   ]
  },
  {
   "cell_type": "code",
   "execution_count": null,
   "id": "617da025",
   "metadata": {},
   "outputs": [],
   "source": [
    "# 列に対する正規化\n",
    "# 行（都道府県ごと）の違いが強調される\n",
    "sns.clustermap(df, z_score=1)"
   ]
  },
  {
   "cell_type": "code",
   "execution_count": null,
   "id": "7e1eccd1",
   "metadata": {},
   "outputs": [],
   "source": [
    "# 列に対する正規化\n",
    "# 行に対するクラスタリングは行わない\n",
    "sns.clustermap(df, z_score=1,row_cluster=False)"
   ]
  },
  {
   "cell_type": "code",
   "execution_count": null,
   "id": "f1e03d73",
   "metadata": {},
   "outputs": [],
   "source": [
    "# 列に対する正規化\n",
    "# クラスタリングは行わない\n",
    "sns.clustermap(df, z_score=1,row_cluster=False, col_cluster=False)"
   ]
  },
  {
   "cell_type": "markdown",
   "id": "57de4ec2",
   "metadata": {},
   "source": [
    "## 相関行列\n",
    "\n",
    "`df.corr(axis)`\n",
    "\n",
    "**注意点**\n",
    "\n",
    "-   pandasのメソッドで相関行列が計算できる。\n",
    "\n",
    "-   デフォルトでは、列に対して相関係数が計算される。行に対する相関を計算したければ、df.Tで転置をとった後corr()を呼び出せばよい。\n",
    "\n",
    "-   カラーマップを調整する（`cmap=\"bwr\", vmin=-1, vmax=1`）ことで、より分かりやすくすることができることもあるが、全てが強く相関しているデータだと逆効果になることも。"
   ]
  },
  {
   "cell_type": "code",
   "execution_count": null,
   "id": "aee5e699",
   "metadata": {},
   "outputs": [],
   "source": [
    "## 列に対する相関行列をプロット\n",
    "sns.clustermap(df.corr())\n",
    "sns.clustermap(df.corr(),cmap=\"bwr\", vmin=-1,vmax=1)"
   ]
  },
  {
   "cell_type": "code",
   "execution_count": null,
   "id": "f9f9d85d",
   "metadata": {},
   "outputs": [],
   "source": [
    "## 行に対する相関行列をプロット\n",
    "sns.clustermap(df.T.corr())\n",
    "sns.clustermap(df.T.corr(),cmap=\"bwr\", vmin=-1,vmax=1)"
   ]
  },
  {
   "cell_type": "markdown",
   "id": "cb820173",
   "metadata": {},
   "source": [
    "# 次元縮約\n",
    "\n",
    "## 主成分分析\n",
    "\n",
    "`sklearn.decomposition.PCA(n_components)`\n",
    "\n",
    "- n_components：主成分分析による縮約後の次元を指定。特に指定しなければ全て残す。\n",
    "\n",
    "**注意点**\n",
    "- scikit-learnのインターフェースなので、クラスをインスタンス化した後で、fit_transform()を呼び出す。\n",
    "    - 主成分得点はfit_transform()の返り値\n",
    "    - その他のデータはPCAクラスのインスタンスから取得\n",
    "- デフォルトではデータの正規化は行われない。（実際には明確な理由がなければ正規化を行った方がよいことが多い。） \n",
    "- バイプロットをsklearnで手軽にやる方法は知らないので割愛します。（詳しい人がいれば教えてください。）\n"
   ]
  },
  {
   "cell_type": "code",
   "execution_count": null,
   "id": "948707d3",
   "metadata": {},
   "outputs": [],
   "source": [
    "# 正規化を行わずに主成分分析\n",
    "pca = sklearn.decomposition.PCA()\n",
    "res = pca.fit_transform(df)\n",
    "\n",
    "# 図のサイズを変更\n",
    "#plt.rcParams[\"figure.figsize\"] = (3,3)\n",
    "\n",
    "# 第１、第２主成分プロット\n",
    "sns.scatterplot(x=res[:,0],y=res[:,1])\n",
    "plt.xlabel(\"PC1\")\n",
    "plt.ylabel(\"PC2\")"
   ]
  },
  {
   "cell_type": "code",
   "execution_count": null,
   "id": "0b30fa14",
   "metadata": {},
   "outputs": [],
   "source": [
    "# 正規化を行なって主成分分析\n",
    "pca = sklearn.decomposition.PCA()\n",
    "scalar = sklearn.preprocessing.StandardScaler()\n",
    "res = pca.fit_transform(scalar.fit_transform(df))\n",
    "\n",
    "# 第１、第２主成分プロット\n",
    "sns.scatterplot(x=res[:,0],y=res[:,1])\n",
    "plt.xlabel(\"PC1\")\n",
    "plt.ylabel(\"PC2\")\n",
    "plt.show()"
   ]
  },
  {
   "cell_type": "code",
   "execution_count": null,
   "id": "95239662",
   "metadata": {},
   "outputs": [],
   "source": [
    "# 第１、第２主成分を行名でプロット\n",
    "# 最初にs=0でプロットを行うと、点は表示されず、軸のみ描画される。\n",
    "# その後、text関数で主成分得点の位置に都道府県名（行名）を表示している。\n",
    "sns.scatterplot(x=res[:,0],y=res[:,1],s=0)\n",
    "for i in range(0,len(df)):\n",
    "    plt.text(res[i,0],res[i,1],df.index[i])\n",
    "plt.xlabel(\"PC1\")\n",
    "plt.ylabel(\"PC2\")\n",
    "plt.show()\n",
    "\n",
    "# 第１、第３主成分を行名でプロット\n",
    "sns.scatterplot(x=res[:,0],y=res[:,2],s=0)\n",
    "for i in range(0,len(df)):\n",
    "    plt.text(res[i,0],res[i,2],df.index[i])\n",
    "plt.xlabel(\"PC1\")\n",
    "plt.ylabel(\"PC3\")\n",
    "plt.show()"
   ]
  },
  {
   "cell_type": "code",
   "execution_count": null,
   "id": "207dbc01",
   "metadata": {},
   "outputs": [],
   "source": [
    "rot = pd.DataFrame(pca.components_,columns=df.columns)\n",
    "weight = rot.iloc[0].sort_values()\n",
    "weight_top = pd.concat([weight[:10],weight[-10:]])\n",
    "sns.barplot(x=weight_top.index,y=weight_top)\n",
    "plt.xticks(rotation=90)\n",
    "plt.title(\"第１主成分の重みベクトル\")\n",
    "plt.show()"
   ]
  },
  {
   "cell_type": "code",
   "execution_count": null,
   "id": "2c57d90e",
   "metadata": {},
   "outputs": [],
   "source": [
    "rot = pd.DataFrame(pca.components_,columns=df.columns)\n",
    "weight = rot.iloc[1].sort_values()\n",
    "weight_top = pd.concat([weight[:10],weight[-10:]])\n",
    "sns.barplot(x=weight_top.index,y=weight_top)\n",
    "plt.xticks(rotation=90)\n",
    "plt.title(\"第２主成分の重みベクトル\")\n",
    "plt.show()"
   ]
  },
  {
   "cell_type": "code",
   "execution_count": null,
   "id": "fa762ace",
   "metadata": {},
   "outputs": [],
   "source": [
    "rot = pd.DataFrame(pca.components_,columns=df.columns)\n",
    "weight = rot.iloc[2].sort_values()\n",
    "weight_top = pd.concat([weight[:10],weight[-10:]])\n",
    "sns.barplot(x=weight_top.index,y=weight_top)\n",
    "plt.xticks(rotation=90)\n",
    "plt.title(\"第３主成分の重みベクトル\")\n",
    "plt.show()"
   ]
  },
  {
   "cell_type": "code",
   "execution_count": null,
   "id": "2468c90c",
   "metadata": {},
   "outputs": [],
   "source": [
    "plt.bar(range(pca.n_components_), pca.explained_variance_ratio_)\n",
    "plt.title(\"寄与率\")\n",
    "plt.show()"
   ]
  },
  {
   "cell_type": "code",
   "execution_count": null,
   "id": "7d86964c",
   "metadata": {},
   "outputs": [],
   "source": [
    "cumulative_variance_ratio = np.cumsum(pca.explained_variance_ratio_)\n",
    "plt.title(\"累積寄与率\")\n",
    "plt.bar(range(pca.n_components_), cumulative_variance_ratio)"
   ]
  },
  {
   "cell_type": "markdown",
   "id": "bf7c7180",
   "metadata": {},
   "source": [
    "ちなみに、主成分得点 res\\$xの分散共分散行列を計算すると、確かに対角的になっている。"
   ]
  },
  {
   "cell_type": "code",
   "execution_count": null,
   "id": "2a1bce53",
   "metadata": {},
   "outputs": [],
   "source": [
    "import numpy as np\n",
    "sns.clustermap(np.cov(res.T), row_cluster=False, col_cluster=False)"
   ]
  },
  {
   "cell_type": "markdown",
   "id": "e6c3acaa",
   "metadata": {},
   "source": [
    "## t-SNE\n",
    "\n",
    "`sklearn.manifold.TSNE(n_components=2, perplexity=30.0, metric='euclidean', random_state=None, angle=0.5)`\n",
    "\n",
    "-   n_components：可視化目的であれば、２次元で十分だが別用途の場合には他の次元にも変更できる\n",
    "- perplexity：t-SNEのハイパーパラメータ。これにより結果は大きく変わる。ヘルプにはperplexityはデータの行数を超えることのないようにしろと書いてある。\n",
    "- metric：t-SNEの入力となる距離行列の計算法を選択\n",
    "- random_state：乱数のシードを与えることができる\n",
    "-   angle：TSNEでは近似的なt-SNEが利用されている。angleを大きくするほど、スピードが上がるが、本来のt-SNEの結果とはずれていくらしい。\n",
    "\n",
    "\n",
    "\n"
   ]
  },
  {
   "cell_type": "code",
   "execution_count": null,
   "id": "1bf6a20f",
   "metadata": {},
   "outputs": [],
   "source": [
    "#データを正規化してからt-SNE\n",
    "tsne = sklearn.manifold.TSNE(random_state=1234, perplexity=15,angle=0)\n",
    "res = tsne.fit_transform(scalar.fit_transform(df))\n",
    "\n",
    "sns.scatterplot(x=res[:,0],y=res[:,1])\n",
    "plt.xlabel(\"t-SNE1\")\n",
    "plt.ylabel(\"t-SNE2\")\n",
    "plt.show()"
   ]
  },
  {
   "cell_type": "code",
   "execution_count": null,
   "id": "40e9e06d",
   "metadata": {},
   "outputs": [],
   "source": [
    "# 地域ごとに色指定\n",
    "cols=np.array([0]+[1]*6+[2]*7+[3]*9+[4]*7+[5]*5+[6]*4+[7]*8)/7\n",
    "sns.scatterplot(x=res[:,0],y=res[:,1],s=0)\n",
    "for i in range(0,len(df)):\n",
    "    plt.text(res[i,0],res[i,1],df.index[i],color=plt.cm.viridis(cols[i]))\n",
    "plt.xlabel(\"t-SNE1\")\n",
    "plt.ylabel(\"t-SNE2\")\n",
    "plt.show()"
   ]
  },
  {
   "cell_type": "markdown",
   "id": "fc7c57d2",
   "metadata": {},
   "source": [
    "## UMAP\n",
    "\n",
    "`umap.UMAP(n_neighbors=15,n_components=2, metric='euclidean', random_state=None)`\n",
    "\n",
    "- n_neighbors：UMAPのハイパーパラメータ。これにより結果は変わる。\n",
    "- n_components：可視化目的であれば、２次元で十分だが別用途の場合には他の次元にも変更できる\n",
    "- metric：UMAPの入力となる距離行列の計算法を選択\n",
    "- random_state：乱数のシードを与えることができる\n"
   ]
  },
  {
   "cell_type": "code",
   "execution_count": null,
   "id": "8ebf0d2e",
   "metadata": {},
   "outputs": [],
   "source": [
    "#データを正規化せずにUMAP\n",
    "u = umap.UMAP(random_state=1234)\n",
    "res = u.fit_transform(df)\n",
    "\n",
    "# 地域ごとに色指定\n",
    "cols=np.array([0]+[1]*6+[2]*7+[3]*9+[4]*7+[5]*5+[6]*4+[7]*8)/7\n",
    "sns.scatterplot(x=res[:,0],y=res[:,1],s=0)\n",
    "for i in range(0,len(df)):\n",
    "    plt.text(res[i,0],res[i,1],df.index[i],color=plt.cm.viridis(cols[i]))\n",
    "plt.xlabel(\"UMAP1\")\n",
    "plt.ylabel(\"UMAP2\")\n",
    "plt.show()"
   ]
  },
  {
   "cell_type": "code",
   "execution_count": null,
   "id": "75e5ea06",
   "metadata": {},
   "outputs": [],
   "source": [
    "#データを正規化してからUMAP\n",
    "u = umap.UMAP(random_state=1234)\n",
    "res = u.fit_transform(scalar.fit_transform(df))\n",
    "\n",
    "# 地域ごとに色指定\n",
    "cols=np.array([0]+[1]*6+[2]*7+[3]*9+[4]*7+[5]*5+[6]*4+[7]*8)/7\n",
    "sns.scatterplot(x=res[:,0],y=res[:,1],s=0)\n",
    "for i in range(0,len(df)):\n",
    "    plt.text(res[i,0],res[i,1],df.index[i],color=plt.cm.viridis(cols[i]))\n",
    "plt.xlabel(\"UMAP1\")\n",
    "plt.ylabel(\"UMAP2\")\n",
    "plt.show()"
   ]
  }
 ],
 "metadata": {
  "kernelspec": {
   "display_name": "general",
   "language": "python",
   "name": "general"
  },
  "language_info": {
   "codemirror_mode": {
    "name": "ipython",
    "version": 3
   },
   "file_extension": ".py",
   "mimetype": "text/x-python",
   "name": "python",
   "nbconvert_exporter": "python",
   "pygments_lexer": "ipython3",
   "version": "3.12.8"
  }
 },
 "nbformat": 4,
 "nbformat_minor": 5
}
