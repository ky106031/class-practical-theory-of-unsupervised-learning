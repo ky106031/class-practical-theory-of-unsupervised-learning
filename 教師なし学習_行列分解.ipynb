{
  "nbformat": 4,
  "nbformat_minor": 0,
  "metadata": {
    "colab": {
      "provenance": []
    },
    "kernelspec": {
      "name": "python3",
      "display_name": "Python 3"
    },
    "language_info": {
      "name": "python"
    }
  },
  "cells": [
    {
      "cell_type": "markdown",
      "source": [
        "# 前準備"
      ],
      "metadata": {
        "id": "aVKpYtCgotGr"
      }
    },
    {
      "cell_type": "markdown",
      "source": [
        "gensimのバージョンアップといったん再起動が必要"
      ],
      "metadata": {
        "id": "rvJzMojYBJrD"
      }
    },
    {
      "cell_type": "code",
      "source": [
        "!pip install --upgrade gensim\n",
        "\n",
        "import os\n",
        "os.kill(os.getpid(), 9)"
      ],
      "metadata": {
        "id": "-dtJVuvi_Hd7"
      },
      "execution_count": null,
      "outputs": []
    },
    {
      "cell_type": "markdown",
      "source": [
        "mecabのインストール"
      ],
      "metadata": {
        "id": "IHDeQT_4BLP6"
      }
    },
    {
      "cell_type": "code",
      "source": [
        "!apt-get install mecab mecab-ipadic-utf8\n",
        "!pip install mecab-python3\n",
        "!ln -s  /etc/mecabrc /usr/local/etc/mecabrc"
      ],
      "metadata": {
        "id": "aVbhVrbC_U1L"
      },
      "execution_count": null,
      "outputs": []
    },
    {
      "cell_type": "markdown",
      "source": [
        "# 文書セットの準備"
      ],
      "metadata": {
        "id": "8BbINSOCow0X"
      }
    },
    {
      "cell_type": "code",
      "source": [
        "sentences = ['吾輩は猫である名前は',\n",
        "             '猫はあるはある',\n",
        "             '吾輩は猫では名前では',\n",
        "             '猫はであるはあるはあるあるある',\n",
        "             '名前ではある名前ではある名前ではある',\n",
        "             'はであるはある']"
      ],
      "metadata": {
        "id": "jkajAMGI_gyE"
      },
      "execution_count": null,
      "outputs": []
    },
    {
      "cell_type": "code",
      "source": [
        "import MeCab\n",
        "\n",
        "tagger = MeCab.Tagger(\"-Owakati\")\n",
        "\n",
        "# 各sentence（ドキュメント）に対して分かち書き\n",
        "tokenized_docs = [tagger.parse(sentence).split() for sentence in sentences]\n",
        "for d in tokenized_docs:\n",
        "  print(d)"
      ],
      "metadata": {
        "id": "n7yk32FJ_hY0"
      },
      "execution_count": null,
      "outputs": []
    },
    {
      "cell_type": "markdown",
      "source": [
        "# 文書のベクトル表現（BoW）"
      ],
      "metadata": {
        "id": "66_mHh4kpUJI"
      }
    },
    {
      "cell_type": "markdown",
      "source": [
        "## 単語文書行列の作成"
      ],
      "metadata": {
        "id": "y21ET4cJo02f"
      }
    },
    {
      "cell_type": "code",
      "source": [
        "import gensim\n",
        "import seaborn\n",
        "\n",
        "# 単語のリスト（辞書）をつくる。IDと語のmapping\n",
        "dic = gensim.corpora.Dictionary(tokenized_docs)\n",
        "print(dic)\n",
        "\n",
        "# 分かち書きされた各ドキュメントをBoWベクトル（頻度）にする\n",
        "BOW_vecs = [dic.doc2bow(tokenized_doc) for tokenized_doc in tokenized_docs]\n",
        "print(BOW_vecs)\n",
        "\n",
        "\n"
      ],
      "metadata": {
        "id": "oqtEe2Bk_ulV"
      },
      "execution_count": null,
      "outputs": []
    },
    {
      "cell_type": "markdown",
      "source": [
        "## 文書間の類似度の可視化"
      ],
      "metadata": {
        "id": "HdBBZsfmo9ao"
      }
    },
    {
      "cell_type": "code",
      "source": [
        "# 各ドキュメントとの類似度を求めるための準備\n",
        "index = gensim.similarities.MatrixSimilarity(BOW_vecs, num_features=len(dic))\n",
        "# 各ドキュメント(BOW_vec)と、準備したindexの各ドキュメントとのコサイン類似度をとる\n",
        "similarities = [index[BOW_vec] for BOW_vec in BOW_vecs]\n",
        "seaborn.heatmap(similarities, annot=True, cmap='Blues')"
      ],
      "metadata": {
        "id": "g1HKnFf8o6bI"
      },
      "execution_count": null,
      "outputs": []
    },
    {
      "cell_type": "markdown",
      "source": [
        "# LSI による行列分解"
      ],
      "metadata": {
        "id": "J6bJJBIApHdo"
      }
    },
    {
      "cell_type": "code",
      "source": [
        "# lsiを行い、ドキュメントベクトル（topic分布ベクトル）を求める\n",
        "lsimodel = gensim.models.LsiModel(BOW_vecs, id2word=dic, num_topics=2)\n",
        "lsi_vecs = [lsimodel[BOW_vec] for BOW_vec in BOW_vecs]\n",
        "print(lsi_vecs)\n",
        "\n"
      ],
      "metadata": {
        "id": "BqPTxY1jSNO0"
      },
      "execution_count": null,
      "outputs": []
    },
    {
      "cell_type": "markdown",
      "source": [
        "## 文書間の類似度の可視化\n"
      ],
      "metadata": {
        "id": "LE0glAkdpPjS"
      }
    },
    {
      "cell_type": "code",
      "source": [
        "# 各ドキュメントとの類似度を求めるための準備\n",
        "index = gensim.similarities.MatrixSimilarity(lsi_vecs, num_features=len(dic))\n",
        "# 各ドキュメント(lsi_vec)と、準備したindexの各ドキュメントとのコサイン類似度をとる\n",
        "similarities = [index[lsi_vec] for lsi_vec in lsi_vecs]\n",
        "seaborn.heatmap(similarities, annot=True, cmap='Blues')\n"
      ],
      "metadata": {
        "id": "IZaufzTfpPCg"
      },
      "execution_count": null,
      "outputs": []
    },
    {
      "cell_type": "markdown",
      "source": [
        "## 分解後の各行列の確認"
      ],
      "metadata": {
        "id": "O6M4FJnvpiOI"
      }
    },
    {
      "cell_type": "code",
      "source": [
        "# 左特異行列U\n",
        "u = lsimodel.projection.u\n",
        "print(u)\n",
        "\n",
        "# 特異値（対角成分だけのベクトル）\n",
        "sigma = lsimodel.projection.s\n",
        "print(sigma)\n",
        "\n",
        "\n",
        "lsimodel.show_topics()"
      ],
      "metadata": {
        "id": "xjSQNp3cpi0g"
      },
      "execution_count": null,
      "outputs": []
    },
    {
      "cell_type": "markdown",
      "source": [],
      "metadata": {
        "id": "5s5CqLRjs9OY"
      }
    }
  ]
}