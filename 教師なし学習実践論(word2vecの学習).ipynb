{
  "nbformat": 4,
  "nbformat_minor": 0,
  "metadata": {
    "colab": {
      "provenance": []
    },
    "kernelspec": {
      "name": "python3",
      "display_name": "Python 3"
    },
    "language_info": {
      "name": "python"
    }
  },
  "cells": [
    {
      "cell_type": "markdown",
      "source": [
        "# 前準備"
      ],
      "metadata": {
        "id": "k4-WFUpVf1Kc"
      }
    },
    {
      "cell_type": "markdown",
      "source": [
        "gensimのバージョンアップといったん再起動が必要"
      ],
      "metadata": {
        "id": "l1kq0NLmVeUY"
      }
    },
    {
      "cell_type": "code",
      "source": [
        "!pip install --upgrade gensim\n",
        "\n",
        "import os\n",
        "os.kill(os.getpid(), 9)"
      ],
      "metadata": {
        "id": "98s2Mj01Vce5"
      },
      "execution_count": null,
      "outputs": []
    },
    {
      "cell_type": "code",
      "execution_count": null,
      "metadata": {
        "id": "WF1uXwbyfFpv"
      },
      "outputs": [],
      "source": [
        "!apt-get install mecab mecab-ipadic-utf8\n",
        "!pip install mecab-python3\n",
        "!ln -s  /etc/mecabrc /usr/local/etc/mecabrc"
      ]
    },
    {
      "cell_type": "markdown",
      "source": [
        "Google Driveのマウントとテキストデータの読み込み"
      ],
      "metadata": {
        "id": "-Dq64dbwfza1"
      }
    },
    {
      "cell_type": "code",
      "source": [
        "from google.colab import drive\n",
        "drive.mount('/content/drive')"
      ],
      "metadata": {
        "id": "q-qnK7t1fUnl"
      },
      "execution_count": null,
      "outputs": []
    },
    {
      "cell_type": "code",
      "source": [
        "import pickle\n",
        "\n",
        "with open('/content/drive/MyDrive/Colab Notebooks/教師なし学習/data.pickle','rb') as f:\n",
        "  sentences = pickle.load(f)"
      ],
      "metadata": {
        "id": "86I4aTwefRRl"
      },
      "execution_count": null,
      "outputs": []
    },
    {
      "cell_type": "markdown",
      "source": [
        "word2vecの学習"
      ],
      "metadata": {
        "id": "LXQfKSAzf968"
      }
    },
    {
      "cell_type": "code",
      "source": [
        "import gensim\n",
        "import MeCab\n",
        "\n",
        "tagger = MeCab.Tagger(\"-Owakati\")\n",
        "# 各sentence（ドキュメント）に対して分かち書き\n",
        "tokenized_docs = [tagger.parse(sentence).split() for sentence in sentences]\n",
        "\n",
        "#モデルの生成\n",
        "word2vec = gensim.models.Word2Vec(vector_size=50, min_count=1, workers=1)\n",
        "\n",
        "#語彙（単語リスト）の設定\n",
        "word2vec.build_vocab(tokenized_docs)\n",
        "\n",
        "#word2vecの学習\n",
        "word2vec.train(tokenized_docs, total_examples=word2vec.corpus_count, epochs=word2vec.epochs)\n",
        "\n",
        "#学習した結果の確認\n",
        "print(word2vec.wv.vectors)"
      ],
      "metadata": {
        "id": "QR6dCdyGfZRN"
      },
      "execution_count": null,
      "outputs": []
    },
    {
      "cell_type": "markdown",
      "source": [
        "どんな単語があるか確認"
      ],
      "metadata": {
        "id": "_kEDRXFzicUJ"
      }
    },
    {
      "cell_type": "code",
      "source": [
        "word2vec.wv.key_to_index"
      ],
      "metadata": {
        "id": "UL9MX8U1g99i"
      },
      "execution_count": null,
      "outputs": []
    },
    {
      "cell_type": "markdown",
      "source": [
        "似ているものを探す"
      ],
      "metadata": {
        "id": "4Ac014ZnigCR"
      }
    },
    {
      "cell_type": "code",
      "source": [
        "word2vec.wv.most_similar('先生')"
      ],
      "metadata": {
        "id": "CoodhV3PflW0"
      },
      "execution_count": null,
      "outputs": []
    }
  ]
}