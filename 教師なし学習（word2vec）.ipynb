{
  "nbformat": 4,
  "nbformat_minor": 0,
  "metadata": {
    "colab": {
      "provenance": []
    },
    "kernelspec": {
      "name": "python3",
      "display_name": "Python 3"
    },
    "language_info": {
      "name": "python"
    }
  },
  "cells": [
    {
      "cell_type": "markdown",
      "source": [
        "gensimのバージョンアップといったん再起動が必要"
      ],
      "metadata": {
        "id": "mOX1YiS5DS46"
      }
    },
    {
      "cell_type": "code",
      "source": [
        "!pip install --upgrade gensim\n",
        "\n",
        "import os\n",
        "os.kill(os.getpid(), 9)"
      ],
      "metadata": {
        "id": "1Uga41nBDSeU"
      },
      "execution_count": null,
      "outputs": []
    },
    {
      "cell_type": "markdown",
      "source": [
        "# 前準備（ディレクトリの設定）"
      ],
      "metadata": {
        "id": "5NfOXFQlxq0l"
      }
    },
    {
      "cell_type": "code",
      "source": [
        "%cd '/content/drive/MyDrive/Colab Notebooks/'\n",
        "!ls -alF"
      ],
      "metadata": {
        "collapsed": true,
        "id": "68N1pmOLxSRn"
      },
      "execution_count": null,
      "outputs": []
    },
    {
      "cell_type": "markdown",
      "source": [
        "# 前準備（word2vecのファイルのダウンロードと解凍）\n",
        "\n",
        "https://github.com/WorksApplications/chiVe\n",
        "\n",
        "**注意: 1回だけすること。何度もやらないこと。一斉にやらないこと**"
      ],
      "metadata": {
        "id": "WcvVsO6Ax0xE"
      }
    },
    {
      "cell_type": "code",
      "source": [
        "!wget https://sudachi.s3-ap-northeast-1.amazonaws.com/chive/chive-1.2-mc90_gensim.tar.gz"
      ],
      "metadata": {
        "id": "xNKgWHHqxDKu"
      },
      "execution_count": null,
      "outputs": []
    },
    {
      "cell_type": "code",
      "source": [
        "!tar zxvf chive-1.2-mc90_gensim.tar.gz"
      ],
      "metadata": {
        "id": "GkWQUyCBxgMF"
      },
      "execution_count": null,
      "outputs": []
    },
    {
      "cell_type": "markdown",
      "source": [
        "あるかを確認"
      ],
      "metadata": {
        "id": "nioOafbkyYn8"
      }
    },
    {
      "cell_type": "code",
      "source": [
        "!ls -alF \"/content/drive/MyDrive/Colab Notebooks/chive-1.2-mc90_gensim/chive-1.2-mc90.kv\""
      ],
      "metadata": {
        "id": "1rCu97l1BnK_"
      },
      "execution_count": null,
      "outputs": []
    },
    {
      "cell_type": "markdown",
      "source": [
        "# モデルの読み込み"
      ],
      "metadata": {
        "id": "_a4DgToUyTLk"
      }
    },
    {
      "cell_type": "code",
      "execution_count": null,
      "metadata": {
        "id": "Q-BYmOyEXvR7"
      },
      "outputs": [],
      "source": [
        "import gensim\n",
        "model_path = '/content/drive/MyDrive/Colab Notebooks/chive-1.2-mc90_gensim/chive-1.2-mc90.kv'\n",
        "model = gensim.models.KeyedVectors.load(model_path)"
      ]
    },
    {
      "cell_type": "markdown",
      "source": [
        "## ベクトルの確認"
      ],
      "metadata": {
        "id": "bl7BEE3Sybo8"
      }
    },
    {
      "cell_type": "code",
      "source": [
        "model['滋賀']"
      ],
      "metadata": {
        "id": "mmBTx8lNepGr"
      },
      "execution_count": null,
      "outputs": []
    },
    {
      "cell_type": "code",
      "source": [
        "model['大阪']"
      ],
      "metadata": {
        "id": "RH9js2iE8lbZ"
      },
      "execution_count": null,
      "outputs": []
    },
    {
      "cell_type": "markdown",
      "source": [
        " # ベクトル間のコサイン類似度の計算"
      ],
      "metadata": {
        "id": "fY2724wfygzb"
      }
    },
    {
      "cell_type": "code",
      "source": [
        "# 自分で実装\n",
        "import numpy as np\n",
        "\n",
        "shiga=model['滋賀']\n",
        "osaka=model['大阪']\n",
        "\n",
        "naiseki = np.dot(shiga, osaka)\n",
        "normShiga=np.linalg.norm(shiga)\n",
        "normOsaka=np.linalg.norm(osaka)\n",
        "\n",
        "cosine_similarity = naiseki / (normShiga * normOsaka)\n",
        "print(cosine_similarity)"
      ],
      "metadata": {
        "id": "BvOq62le80re"
      },
      "execution_count": null,
      "outputs": []
    },
    {
      "cell_type": "code",
      "source": [
        "# gensim library\n",
        "model.similarity('滋賀','大阪')"
      ],
      "metadata": {
        "id": "aNA1tPz2fBiI"
      },
      "execution_count": null,
      "outputs": []
    },
    {
      "cell_type": "markdown",
      "source": [
        "## 似ているものを探す"
      ],
      "metadata": {
        "id": "1qxdMWr2ysaz"
      }
    },
    {
      "cell_type": "code",
      "source": [
        "model.most_similar('香川県')"
      ],
      "metadata": {
        "id": "IXow3_k1fXk6"
      },
      "execution_count": null,
      "outputs": []
    },
    {
      "cell_type": "markdown",
      "source": [
        "## 加法構成性の確認"
      ],
      "metadata": {
        "id": "gI-HyUmqyvsz"
      }
    },
    {
      "cell_type": "code",
      "source": [
        "model.most_similar(positive=['滋賀県','湖'])"
      ],
      "metadata": {
        "id": "OHKo4Z24fs_R"
      },
      "execution_count": null,
      "outputs": []
    },
    {
      "cell_type": "code",
      "source": [
        "model.most_similar(positive=['滋賀県'],negative=['琵琶湖'])"
      ],
      "metadata": {
        "id": "c7psR79SgOoI"
      },
      "execution_count": null,
      "outputs": []
    },
    {
      "cell_type": "code",
      "source": [
        "model.most_similar(positive=['彦根市','京都府'],negative=['滋賀県'])"
      ],
      "metadata": {
        "id": "wMZ9LiIsgr0S"
      },
      "execution_count": null,
      "outputs": []
    }
  ]
}