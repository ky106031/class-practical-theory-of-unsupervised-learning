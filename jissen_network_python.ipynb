{
 "cells": [
  {
   "cell_type": "markdown",
   "id": "64f0fa30",
   "metadata": {},
   "source": [
    "# 教師なし学習実践論（寺口担当分）\n",
    "注）この資料は、滋賀大学データサイエンス研究科の教師なし学習の教材です。第三者に公開することのないようお願いします。"
   ]
  },
  {
   "cell_type": "markdown",
   "id": "4c98e6ee",
   "metadata": {},
   "source": [
    "# igraphパッケージによるネットワーク解析\n",
    "-   igraphは代表的なネットワーク解析のパッケージ\n",
    "-   内部はCで書かれており、高速\n",
    "-   RとPythonのどちらからも利用可能\n",
    "\n",
    "## pythonのigraphパッケージ\n",
    "- RのigraphのインターフェースとPythonのighraphのインターフェースはかなり違う。\n",
    "- https://python.igraph.org/en/stable/index.html\n",
    "- 今回のスクリプトは、igraph v0.11.6で動作確認\n",
    "- 昨年度の資料では、バックエンドとしてmatplotlibを利用していたが、今回からCairo(pycairoパッケージ)に変更"
   ]
  },
  {
   "cell_type": "code",
   "execution_count": null,
   "id": "eac10386",
   "metadata": {},
   "outputs": [],
   "source": [
    "# !pip install igraph\n",
    "# !pip install pycairo"
   ]
  },
  {
   "cell_type": "code",
   "execution_count": null,
   "id": "59a30fd1",
   "metadata": {},
   "outputs": [],
   "source": [
    "import igraph as ig\n",
    "import numpy as np\n",
    "import seaborn as sns\n",
    "import random"
   ]
  },
  {
   "cell_type": "code",
   "execution_count": null,
   "id": "70985876-d0f0-4fa6-b52c-b3d537a1463b",
   "metadata": {},
   "outputs": [],
   "source": [
    "ig.__version__"
   ]
  },
  {
   "cell_type": "code",
   "execution_count": null,
   "id": "75067941-e48d-4b89-947c-3db596905790",
   "metadata": {},
   "outputs": [],
   "source": [
    "# pycairoをインストールしていないとエラーになる。\n",
    "g = ig.Graph.Famous(\"Zachary\")\n",
    "ig.plot(g)"
   ]
  },
  {
   "cell_type": "code",
   "execution_count": null,
   "id": "bb524bd1-cbb0-4545-b842-a7d0bc5d3100",
   "metadata": {},
   "outputs": [],
   "source": [
    "# # matplotlibをバックエンドに使う場合\n",
    "# import matplotlib.pyplot as plt\n",
    "# %matplotlib inline\n",
    "# # DPIを設定\n",
    "# plt.rcParams[\"figure.dpi\"] = 200\n",
    "# # 図のデフォルトのサイズを設定\n",
    "# plt.rcParams[\"figure.figsize\"] = (3,3)\n",
    "\n",
    "# g = ig.Graph.Famous(\"Zachary\")\n",
    "# fig, ax = plt.subplots()\n",
    "# ig.plot(g,target= ax)"
   ]
  },
  {
   "cell_type": "code",
   "execution_count": null,
   "id": "b6dfb087",
   "metadata": {},
   "outputs": [],
   "source": [
    "# igraphオブジェクト\n",
    "print(g)\n",
    "\n",
    "# 頂点の数\n",
    "print(\"頂点の数：{}\".format(g.vcount()))\n",
    "\n",
    "# 辺の数\n",
    "print(\"辺の数：{}\".format(g.ecount()))"
   ]
  },
  {
   "cell_type": "code",
   "execution_count": null,
   "id": "164e7db6",
   "metadata": {},
   "outputs": [],
   "source": [
    "# このグラフの頂点集合\n",
    "g.vs"
   ]
  },
  {
   "cell_type": "code",
   "execution_count": null,
   "id": "fed20ed5",
   "metadata": {},
   "outputs": [],
   "source": [
    "# このグラフの辺集合\n",
    "g.es"
   ]
  },
  {
   "cell_type": "markdown",
   "id": "2795173a-10c6-4af3-9ec7-497c1f943ce5",
   "metadata": {},
   "source": [
    "## グラフの可視化"
   ]
  },
  {
   "cell_type": "code",
   "execution_count": null,
   "id": "3e34d905",
   "metadata": {},
   "outputs": [],
   "source": [
    "g = ig.Graph.Famous(\"Zachary\")\n",
    "ig.plot(g,vertex_color='skyblue', vertex_label=g.vs.indices,vertex_frame_width=0)"
   ]
  },
  {
   "cell_type": "markdown",
   "id": "21ce0191",
   "metadata": {},
   "source": [
    "### グラフの配置"
   ]
  },
  {
   "cell_type": "code",
   "execution_count": null,
   "id": "81c2f98d",
   "metadata": {},
   "outputs": [],
   "source": [
    "# Fruchterman-Reingold配置アルゴリズム\n",
    "layout = g.layout_fruchterman_reingold()\n",
    "ig.plot(g,layout=layout)"
   ]
  },
  {
   "cell_type": "code",
   "execution_count": null,
   "id": "3c83b4e6",
   "metadata": {},
   "outputs": [],
   "source": [
    "# 円環上に配置\n",
    "layout = g.layout_circle()\n",
    "ig.plot(g,layout=layout)"
   ]
  },
  {
   "cell_type": "markdown",
   "id": "73481f59",
   "metadata": {},
   "source": [
    "## グラフの作成"
   ]
  },
  {
   "cell_type": "markdown",
   "id": "ac85f4a3",
   "metadata": {},
   "source": [
    "### 隣接行列からグラフを作成"
   ]
  },
  {
   "cell_type": "code",
   "execution_count": null,
   "id": "06c4c9a7",
   "metadata": {},
   "outputs": [],
   "source": [
    "# デフォルトでは有向グラフ\n",
    "g = ig.Graph.Adjacency([[0,0,0],[1,0,0],[1,1,0]])\n",
    "ig.plot(g, vertex_label=g.vs.indices)"
   ]
  },
  {
   "cell_type": "code",
   "execution_count": null,
   "id": "99da1757",
   "metadata": {},
   "outputs": [],
   "source": [
    "# 無向グラフの時は、mode=\"undirected\"\n",
    "g = ig.Graph.Adjacency([[0,1,1],[1,0,1],[1,1,0]],mode=\"undirected\")\n",
    "ig.plot(g,vertex_label=g.vs.indices)"
   ]
  },
  {
   "cell_type": "markdown",
   "id": "8fa4283a",
   "metadata": {},
   "source": [
    "### 辺リストからグラフを作成"
   ]
  },
  {
   "cell_type": "code",
   "execution_count": null,
   "id": "ee2c8807",
   "metadata": {},
   "outputs": [],
   "source": [
    "# 最初に使ったグラフから辺リストを取得\n",
    "g = ig.Graph.Famous(\"Zachary\")\n",
    "el = g.get_edgelist()\n",
    "print(el)"
   ]
  },
  {
   "cell_type": "code",
   "execution_count": null,
   "id": "7d267455",
   "metadata": {},
   "outputs": [],
   "source": [
    "# 辺リストからグラフを作成\n",
    "g = ig.Graph.TupleList(el)\n",
    "ig.plot(g,vertex_label=g.vs.indices)"
   ]
  },
  {
   "cell_type": "markdown",
   "id": "a0af1ba8",
   "metadata": {},
   "source": [
    "### ネットワークの生成モデル"
   ]
  },
  {
   "cell_type": "code",
   "execution_count": null,
   "id": "81cd3949",
   "metadata": {},
   "outputs": [],
   "source": [
    "# Erdos-Renyi model\n",
    "random.seed(1234)\n",
    "g = ig.Graph.Erdos_Renyi(100,0.1)\n",
    "ig.plot(g)"
   ]
  },
  {
   "cell_type": "code",
   "execution_count": null,
   "id": "f0bb3f45",
   "metadata": {},
   "outputs": [],
   "source": [
    "# Watts-Strogatz model\n",
    "random.seed(1234)\n",
    "g = ig.Graph.Watts_Strogatz(dim=1,size=100,nei=2,p=0.1)\n",
    "ig.plot(g)"
   ]
  },
  {
   "cell_type": "code",
   "execution_count": null,
   "id": "50600a43",
   "metadata": {},
   "outputs": [],
   "source": [
    "# Scale Free Network\n",
    "random.seed(1234)\n",
    "g = ig.Graph.Barabasi(n=100,power=1,directed=False)\n",
    "ig.plot(g)"
   ]
  },
  {
   "cell_type": "markdown",
   "id": "e7008209",
   "metadata": {},
   "source": [
    "## 相関ネットワーク"
   ]
  },
  {
   "cell_type": "code",
   "execution_count": null,
   "id": "a9797b82",
   "metadata": {},
   "outputs": [],
   "source": [
    "# ここでは、irisデータを使う\n",
    "iris = sns.load_dataset('iris')\n",
    "\n",
    "# irisデータ全体の特徴量間の相関行列\n",
    "rho = iris.drop(\"species\",axis=1).corr()\n",
    "\n",
    "rho"
   ]
  },
  {
   "cell_type": "code",
   "execution_count": null,
   "id": "8db4f6fd",
   "metadata": {},
   "outputs": [],
   "source": [
    "# 隣接行列を作成\n",
    "a = rho > 0.5 # 相関係数が0.5以上を残す。\n",
    "np.fill_diagonal(a.values,0) # 対角要素を0に\n",
    "a"
   ]
  },
  {
   "cell_type": "code",
   "execution_count": null,
   "id": "e7535e47",
   "metadata": {},
   "outputs": [],
   "source": [
    "# 隣接行列からグラフを作成\n",
    "g = ig.Graph.Adjacency(a,mode=\"undirected\")\n",
    "ig.plot(g,vertex_label=a.index)"
   ]
  },
  {
   "cell_type": "markdown",
   "id": "b8d26dd0",
   "metadata": {},
   "source": [
    "## 中心性指標"
   ]
  },
  {
   "cell_type": "code",
   "execution_count": null,
   "id": "75aced26",
   "metadata": {},
   "outputs": [],
   "source": [
    "# 最初に使ったグラフ\n",
    "g = ig.Graph.Famous(\"Zachary\") \n",
    "ig.plot(g,vertex_label=g.vs.indices)"
   ]
  },
  {
   "cell_type": "code",
   "execution_count": null,
   "id": "cb1c37ba",
   "metadata": {},
   "outputs": [],
   "source": [
    "# 次数中心性\n",
    "k = g.degree()\n",
    "print(k)"
   ]
  },
  {
   "cell_type": "code",
   "execution_count": null,
   "id": "7b65513e",
   "metadata": {},
   "outputs": [],
   "source": [
    "v_size=np.array(k)\n",
    "ig.plot(g,vertex_size=v_size,vertex_label=g.vs.indices)"
   ]
  },
  {
   "cell_type": "code",
   "execution_count": null,
   "id": "5408b4af",
   "metadata": {},
   "outputs": [],
   "source": [
    "# 媒介中心性\n",
    "b = g.betweenness()\n",
    "print(b)"
   ]
  },
  {
   "cell_type": "code",
   "execution_count": null,
   "id": "4c7ac00c",
   "metadata": {},
   "outputs": [],
   "source": [
    "# 例えば、対数変換してみた例\n",
    "v_size=np.log(np.array(b)+1)*5\n",
    "ig.plot(g,vertex_size=v_size,vertex_label=g.vs.indices)"
   ]
  },
  {
   "cell_type": "code",
   "execution_count": null,
   "id": "8eca998f",
   "metadata": {},
   "outputs": [],
   "source": [
    "# 辺に対する媒介中心性\n",
    "b = g.edge_betweenness()\n",
    "e_width=np.log(np.array(b)+1)\n",
    "ig.plot(g,edge_width=e_width,vertex_label=g.vs.indices)"
   ]
  },
  {
   "cell_type": "markdown",
   "id": "7db7866a",
   "metadata": {},
   "source": [
    "## コミュニティ検出"
   ]
  },
  {
   "cell_type": "code",
   "execution_count": null,
   "id": "6a6e92c7",
   "metadata": {},
   "outputs": [],
   "source": [
    "# 媒介中心性を利用したコミュニティ検出\n",
    "res = g.community_edge_betweenness()\n",
    "communities = res.as_clustering()\n",
    "num_communities = len(communities)\n",
    "ig.plot(communities,vertex_label=g.vs.indices)"
   ]
  },
  {
   "cell_type": "code",
   "execution_count": null,
   "id": "138e1327",
   "metadata": {},
   "outputs": [],
   "source": [
    "# Louvain法\n",
    "communities = g.community_multilevel()\n",
    "num_communities = len(communities)\n",
    "ig.plot(communities,vertex_label=g.vs.indices)"
   ]
  },
  {
   "cell_type": "code",
   "execution_count": null,
   "id": "29eb91c9",
   "metadata": {},
   "outputs": [],
   "source": [
    "# Leiden法\n",
    "communities = g.community_leiden()\n",
    "ig.plot(communities,vertex_label=g.vs.indices)"
   ]
  },
  {
   "cell_type": "code",
   "execution_count": null,
   "id": "7bac731b-f898-4ce7-a12d-fd2363a8cb53",
   "metadata": {},
   "outputs": [],
   "source": [
    "# Leiden法\n",
    "communities = g.community_leiden(resolution=0.1)\n",
    "ig.plot(communities,vertex_label=g.vs.indices)"
   ]
  },
  {
   "cell_type": "code",
   "execution_count": null,
   "id": "ab9eacb6",
   "metadata": {
    "scrolled": true
   },
   "outputs": [],
   "source": [
    "# KONECTのZebraネットワークをダウンロード\n",
    "# http://konect.cc/networks/\n",
    "import pandas as pd\n",
    "el = pd.read_table(\"out.moreno_zebra_zebra\", comment = '%', sep=r\"\\s+\", header=None, dtype=int) # sep=r\"\\s+\" で、空白区切りとタブ区切りに両対応\n",
    "el"
   ]
  },
  {
   "cell_type": "code",
   "execution_count": null,
   "id": "9bf04890-3a40-4eec-84a4-b7e79131e2b3",
   "metadata": {},
   "outputs": [],
   "source": [
    "# 辺リストからグラフを作成\n",
    "g = ig.Graph.TupleList(el.values)\n",
    "ig.plot(g,vertex_label=g.vs.indices)"
   ]
  }
 ],
 "metadata": {
  "kernelspec": {
   "display_name": "general",
   "language": "python",
   "name": "general"
  },
  "language_info": {
   "codemirror_mode": {
    "name": "ipython",
    "version": 3
   },
   "file_extension": ".py",
   "mimetype": "text/x-python",
   "name": "python",
   "nbconvert_exporter": "python",
   "pygments_lexer": "ipython3",
   "version": "3.12.8"
  }
 },
 "nbformat": 4,
 "nbformat_minor": 5
}
